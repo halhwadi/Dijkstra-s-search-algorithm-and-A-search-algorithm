{
 "cells": [
  {
   "cell_type": "markdown",
   "metadata": {},
   "source": [
    "\n",
    "\n",
    "**In this notebook, we will:**\n",
    "* Implement Dijkstra's search algorithm on a road network graph.\n",
    "* Implement the A* search algorithm using a Euclidean heuristic on a road network graph. \n",
    "\n"
   ]
  },
  {
   "cell_type": "markdown",
   "metadata": {},
   "source": [
    "We will be relying on the [OSMNX library](https://osmnx.readthedocs.io/en/stable/) to generate Python graphs from Open Street Map (OSM) data. These graphs will be represented using the [NetworkX library](https://networkx.github.io/documentation/stable/). Both of these links are to the documentation"
   ]
  },
  {
   "cell_type": "code",
   "execution_count": 1,
   "metadata": {},
   "outputs": [],
   "source": [
    "import osmnx as ox\n",
    "import networkx as nx\n",
    "import queue\n",
    "import math\n",
    "import priority_dict\n",
    "import time"
   ]
  },
  {
   "cell_type": "markdown",
   "metadata": {},
   "source": [
    "We're going to be focusing on planning in Berkeley, California, between the two nodes given below. After running the code up to and includeing the box below, you should see the output of the shortest path between the two points."
   ]
  },
  {
   "cell_type": "code",
   "execution_count": 6,
   "metadata": {},
   "outputs": [
    {
     "data": {
      "image/png": "[encoded data removed]",
      "text/plain": [
       "<Figure size 576x576 with 1 Axes>"
      ]
     },
     "metadata": {},
     "output_type": "display_data"
    }
   ],
   "source": [
    "map_graph = ox.graph_from_place('Berkeley, California', network_type='drive')\n",
    "#origin = ox.get_nearest_node(map_graph, (37.8743, -122.277))\n",
    "origin = ox.distance.nearest_nodes(map_graph, 37.8743, -122.277)\n",
    "destination = list(map_graph.nodes())[-1]\n",
    "\n",
    "shortest_path = nx.shortest_path(map_graph, origin, destination, weight='length')\n",
    "fig, ax = ox.plot_graph_route(map_graph, shortest_path)"
   ]
  },
  {
   "cell_type": "markdown",
   "metadata": {},
   "source": [
    "## Dijkstra's Search\n",
    "First, let's focus on Dijkstra's algorithm.\n",
    "\n",
    "![Dijkstra's Pseudocode](dijkstra.png)\n",
    "\n",
    "This function will be implemented by you below in `dijkstras_search()`. We have included a helper function `get_path()` that will assist in retrieving the path from the dictionary of predecessors once the goal is found.\n",
    "\n",
    "To perform Dijkstra's search, we require a priority queue (or a min heap), which is defined as the `priority_dict` class. This class is accessed just as a standard dictionary is, except it orders the keys by their value. We can use the vertices as the keys to our priority queue, and their distance from the start as their value. For example, to set the distance of vertex `v` to the variable `dist`, we can do `open_queue[v] = dist`. To get the smallest value in the priority queue, we can use `priority_dict.pop_smallest()`. This returns a tuple of the vertex key and it's distance from the origin.\n",
    "\n",
    "The main input to the search is the `graph`, an OSMNX graph representation of the road network. The vertices are stored as keys, and as such the origin is given as input as `origin_key` and the goal is given as `goal_key`. To get the outgoing edges of a given vertex `u`, we can use `graph.out_edges([u], data=True)`. The return value of this is a list of tuples, each of which represent an outgoing edge. The second element of each tuple is the outgoing vertex at the other end of the edge. You can iterate over this list of tuples using:\n",
    "\n",
    "`for edge in graph.out_edges([u], data=True):`\n",
    "\n",
    "and can get the outgoing vertex of these edges by accessing the 2nd element of the tuple:\n",
    "\n",
    "`edge[1]`.\n",
    "\n",
    "To get the weight of this edge, you can access the data stored in the 3rd element of the tuple:\n",
    "\n",
    "`length = edge[2]['length']`.\n",
    "\n",
    "For more details, you can refer to the NetworkX documentation [here](https://networkx.github.io/documentation/networkx-2.3/reference/classes/generated/networkx.DiGraph.out_edges.html?highlight=out_edges#networkx.DiGraph.out_edges).\n",
    "\n"
   ]
  },
  {
   "cell_type": "code",
   "execution_count": 3,
   "metadata": {},
   "outputs": [],
   "source": [
    "# For a given graph, origin vertex key, and goal vertex key,\n",
    "# computes the shortest path in the graph from the origin vertex\n",
    "# to the goal vertex using Dijkstra's algorithm.\n",
    "# Returns the shortest path as a list of vertex keys.\n",
    "def dijkstras_search(origin_key, goal_key, graph):\n",
    "    \n",
    "    # The priority queue of open vertices we've reached.\n",
    "    # Keys are the vertex keys, vals are the distances.\n",
    "    open_queue = priority_dict.priority_dict({})\n",
    "    \n",
    "    # The dictionary of closed vertices we've processed.\n",
    "    # closed_dict = {}\n",
    "    \n",
    "    # The dictionary of predecessors for each vertex.\n",
    "    predecessors = {}\n",
    "    \n",
    "    # Add the origin to the open queue.\n",
    "    open_queue[origin_key] = 0.0\n",
    "\n",
    "    # Iterate through the open queue, until we find the goal.\n",
    "    # Each time, perform a Dijkstra's update on the queue.\n",
    "    # TODO: Implement the Dijstra update loop.\n",
    "    goal_found = False\n",
    "    u,cum = open_queue.smallest()\n",
    "    i = 0\n",
    "\n",
    "    while (open_queue):\n",
    "        \n",
    "        for edge in graph.out_edges([u], data=True):\n",
    "            \n",
    "            if (i != 0) and (edge[1] == predecessors[u]):\n",
    "                continue\n",
    "                \n",
    "            elif edge[1] not in open_queue:\n",
    "                open_queue[edge[1]] = edge[2]['length'] + cum\n",
    "                if edge[1] not in predecessors:\n",
    "                    predecessors[edge[1]] = u\n",
    "                elif predecessors[edge[1]] != origin:\n",
    "                    predecessors[edge[1]] = u\n",
    "            \n",
    "            else:\n",
    "                if open_queue[edge[1]] > (edge[2]['length'] + cum):\n",
    "                    open_queue[edge[1]] = edge[2]['length'] + cum\n",
    "                    if predecessors[edge[1]] != origin:\n",
    "                        predecessors[edge[1]] = u\n",
    "                \n",
    "                else:\n",
    "                    pass\n",
    "                \n",
    "        #closed_dict[u] = u\n",
    "        open_queue[1] = max(open_queue.values()) + 1\n",
    "        \n",
    "        if open_queue.smallest()[0] == goal_key:\n",
    "            goal_found = True\n",
    "            break\n",
    "        \n",
    "        if i == 0:\n",
    "            open_queue.pop_smallest()\n",
    "            cum += open_queue.smallest()[1]\n",
    "            u = open_queue.pop_smallest()[0]\n",
    "        \n",
    "        #cum =  open_queue[u][1]\n",
    "        else:\n",
    "            cum += open_queue.smallest()[1]\n",
    "            u = open_queue.pop_smallest()[0]\n",
    "         \n",
    "        i += 1\n",
    "       \n",
    "    \n",
    "    # If we get through entire priority queue without finding the goal,\n",
    "    # something is wrong.\n",
    "    if not goal_found:\n",
    "        raise ValueError(\"Goal not found in search.\")\n",
    "    \n",
    "    # Construct the path from the predecessors dictionary.\n",
    "    return get_path(origin_key, goal_key, predecessors)                "
   ]
  },
  {
   "cell_type": "code",
   "execution_count": 4,
   "metadata": {},
   "outputs": [],
   "source": [
    "# This function follows the predecessor\n",
    "# backpointers and generates the equivalent path from the\n",
    "# origin as a list of vertex keys.\n",
    "def get_path(origin_key, goal_key, predecessors):\n",
    "    key = goal_key\n",
    "    path = [goal_key]\n",
    "    \n",
    "    while (key != origin_key):\n",
    "        key = predecessors[key]\n",
    "        path.insert(0, key)\n",
    "        \n",
    "    return path"
   ]
  },
  {
   "cell_type": "markdown",
   "metadata": {},
   "source": [
    "Once these two functions have been implemented, run the box below to see if your output matches that of the library function above"
   ]
  },
  {
   "cell_type": "code",
   "execution_count": 5,
   "metadata": {},
   "outputs": [
    {
     "data": {
      "image/png": "[encoded data removed]",
      "text/plain": [
       "<Figure size 576x576 with 1 Axes>"
      ]
     },
     "metadata": {},
     "output_type": "display_data"
    },
    {
     "name": "stdout",
     "output_type": "stream",
     "text": [
      "0.14684009552001953\n"
     ]
    }
   ],
   "source": [
    "start_time = time.time()\n",
    "path = dijkstras_search(origin, destination, map_graph)        \n",
    "fig, ax = ox.plot_graph_route(map_graph, path)\n",
    "print(time.time() - start_time)"
   ]
  },
  {
   "cell_type": "markdown",
   "metadata": {},
   "source": [
    "## A* Search\n",
    "Next, we will use a distance heuristic to implement A* search for our map search problem. Since we are using real map data here, we will need to convert the data to a format which we can use for distance computation. Each data point has a latitude and longitude associated with it, which we then have to convert into (x, y, z) coordinates on the earth (which we will assume to be a sphere with radius 6371 km). We can then take the straight line distance between these two points as an approximation for the distance between them. Over small distances, this approximation is accurate. This is implemented in the `distance_heuristic()` function below."
   ]
  },
  {
   "cell_type": "code",
   "execution_count": 7,
   "metadata": {},
   "outputs": [],
   "source": [
    "# Computes the Euclidean distance between two vertices.\n",
    "# Assume that the earth is a sphere with radius 6371 km.\n",
    "def distance_heuristic(state_key, goal_key, node_data):\n",
    "    n1 = node_data[state_key]\n",
    "    n2 = node_data[goal_key]\n",
    "\n",
    "    # Get the longitude and latitude for each vertex.\n",
    "    long1 = n1['x']*math.pi/180.0\n",
    "    lat1 = n1['y']*math.pi/180.0\n",
    "    long2 = n2['x']*math.pi/180.0\n",
    "    lat2 = n2['y']*math.pi/180.0\n",
    "    \n",
    "    # Use a spherical approximation of the earth for\n",
    "    # estimating the distance between two points.\n",
    "    r = 6371000\n",
    "    x1 = r*math.cos(lat1)*math.cos(long1)\n",
    "    y1 = r*math.cos(lat1)*math.sin(long1)\n",
    "    z1 = r*math.sin(lat1)\n",
    "\n",
    "    x2 = r*math.cos(lat2)*math.cos(long2)\n",
    "    y2 = r*math.cos(lat2)*math.sin(long2)\n",
    "    z2 = r*math.sin(lat2)\n",
    "\n",
    "    d = ((x2-x1)**2 + (y2-y1)**2 + (z2-z1)**2)**0.5\n",
    "    \n",
    "    return d"
   ]
  },
  {
   "cell_type": "markdown",
   "metadata": {},
   "source": [
    "Now, we can use our distance heuristic to perform A* search on our map.\n",
    "![A* Pseudocode](a_star.png)\n",
    "This function will be implemented in the `a_star_search()` function below. As with Dijkstra's search, you should make use of the `get_path()` helper function above."
   ]
  },
  {
   "cell_type": "code",
   "execution_count": 8,
   "metadata": {},
   "outputs": [],
   "source": [
    "# The priority queue of open vertices we've reached.\n",
    "    # Keys are the vertex keys, vals are the distances.\n",
    "    \n",
    "def a_star_search(origin_key, goal_key, graph):\n",
    "    open_queue = priority_dict.priority_dict({})\n",
    "    \n",
    "    # The dictionary of closed vertices we've processed.\n",
    "    #closed_dict = {}\n",
    "    \n",
    "    # The dictionary of predecessors for each vertex.\n",
    "    predecessors = {}\n",
    "\n",
    "   # Get the spatial data for each vertex as a dictionary.\n",
    "    nodes = graph.nodes(True)\n",
    "    \n",
    "   # Add the origin to the open queue.\n",
    "   #open_queue[origin] = distance_heuristic(origin, destination, nodes)\n",
    "\n",
    "    open_queue[origin_key] = 0.0\n",
    "\n",
    "\n",
    "    # Iterate through the open queue, until we find the goal.\n",
    "    # Each time, perform a Dijkstra's update on the queue.\n",
    "    # TODO: Implement the Dijstra update loop.\n",
    "    goal_found = False\n",
    "    u,cum = open_queue.smallest()\n",
    "\n",
    "\n",
    "    i = 0\n",
    "    #cum = open_queue[origin]\n",
    "    while (open_queue):\n",
    "        \n",
    "        for edge in graph.out_edges([u], data=True):\n",
    "            \n",
    "            h = distance_heuristic(edge[1], goal_key, nodes) if edge[1] != goal_key else 0.0\n",
    "            \n",
    "            if (i != 0) and (edge[1] == predecessors[u]):\n",
    "                continue\n",
    "            \n",
    "            elif edge[1] not in open_queue:\n",
    "                open_queue[edge[1]] = edge[2]['length'] + cum + h\n",
    "                if edge[1] not in predecessors:\n",
    "                    predecessors[edge[1]] = u\n",
    "                elif predecessors[edge[1]] != origin:\n",
    "                    predecessors[edge[1]] = u\n",
    "            \n",
    "            else:\n",
    "                if open_queue[edge[1]] > (edge[2]['length'] + cum + h):\n",
    "                    open_queue[edge[1]] = edge[2]['length'] + cum + h\n",
    "                    if predecessors[edge[1]] != origin:\n",
    "                        predecessors[edge[1]] = u\n",
    "                \n",
    "                else:\n",
    "                    pass\n",
    "                \n",
    "        #closed_dict[u] = u\n",
    "        open_queue[1] = max(open_queue.values()) + 1\n",
    "    \n",
    "    \n",
    "        if open_queue.smallest()[0] == destination:\n",
    "            goal_found = True\n",
    "            break\n",
    "        \n",
    "        if i == 0:\n",
    "            open_queue.pop_smallest()\n",
    "            cum += open_queue.smallest()[1] - h\n",
    "            u = open_queue.pop_smallest()[0]\n",
    "\n",
    "        else:\n",
    "            cum += open_queue.smallest()[1] - h\n",
    "            u = open_queue.pop_smallest()[0]\n",
    "         \n",
    "        i += 1\n",
    "    \n",
    "            \n",
    "    \n",
    "    # If we get through entire priority queue without finding the goal,\n",
    "    # something is wrong.\n",
    "    if not goal_found:\n",
    "            raise ValueError(\"Goal not found in search.\")\n",
    "            \n",
    "    return get_path(origin_key, goal_key, predecessors) \n"
   ]
  },
  {
   "cell_type": "markdown",
   "metadata": {},
   "source": [
    "Once this function has been implemented, run the box below to see if your output matches that of the library function at the start of the notebook."
   ]
  },
  {
   "cell_type": "code",
   "execution_count": 9,
   "metadata": {},
   "outputs": [
    {
     "data": {
      "image/png": "[encoded data removed]",
      "text/plain": [
       "<Figure size 576x576 with 1 Axes>"
      ]
     },
     "metadata": {},
     "output_type": "display_data"
    },
    {
     "name": "stdout",
     "output_type": "stream",
     "text": [
      "0.14880895614624023\n"
     ]
    }
   ],
   "source": [
    "start_time = time.time()\n",
    "path = a_star_search(origin, destination, map_graph)        \n",
    "fig, ax = ox.plot_graph_route(map_graph, path)\n",
    "print(time.time() - start_time)"
   ]
  },
  {
   "cell_type": "code",
   "execution_count": null,
   "metadata": {},
   "outputs": [],
   "source": []
  }
 ],
 "metadata": {
  "kernelspec": {
   "display_name": "Python 3",
   "language": "python",
   "name": "python3"
  },
  "language_info": {
   "codemirror_mode": {
    "name": "ipython",
    "version": 3
   },
   "file_extension": ".py",
   "mimetype": "text/x-python",
   "name": "python",
   "nbconvert_exporter": "python",
   "pygments_lexer": "ipython3",
   "version": "3.9.5"
  }
 },
 "nbformat": 4,
 "nbformat_minor": 2
}
